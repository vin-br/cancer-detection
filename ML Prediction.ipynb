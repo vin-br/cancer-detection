{
 "cells": [
  {
   "attachments": {},
   "cell_type": "markdown",
   "id": "fcbf113f",
   "metadata": {},
   "source": [
    "# Cancer Detection -  Détection cancer du sein "
   ]
  },
  {
   "attachments": {},
   "cell_type": "markdown",
   "id": "cc8797da",
   "metadata": {},
   "source": [
    "## Partie 2. Évaluation d'un modèle"
   ]
  },
  {
   "cell_type": "markdown",
   "id": "df3f3333",
   "metadata": {},
   "source": [
    "### En quoi consiste la standardisation des données? Pourquoi est-elle importante ici?   \n"
   ]
  },
  {
   "cell_type": "markdown",
   "id": "eab3d0d1",
   "metadata": {},
   "source": [
    "La standardisation désigne la conversion des données vers un format standard commun et normalisé.\n",
    "\n",
    "L’objectif de la standardisation est de rendre les données lisibles ou de les structurer pour qu'une autre personne puisse les lire et les comprendre. Une fois acquises, les différentes données doivent être standardisées afin d’être exploitées et étudiées uniformément.\n"
   ]
  },
  {
   "cell_type": "markdown",
   "id": "eac91e00",
   "metadata": {},
   "source": [
    "### Expliquez à quoi sert le fait de séparer les données en entraînement et en test.\n"
   ]
  },
  {
   "cell_type": "markdown",
   "id": "91b77959",
   "metadata": {},
   "source": [
    "Séparer les données en entraînement et en test permet d'éviter le sur-entraînement (ou l’overfitting). Le sur-entraînement survient lorsque le modèle essaye de trop coller aux données. Si bien qu’il n’est plus généralisable.\n",
    "\n",
    "Si le modèle est sur-entrainé :\n",
    "- il sera excellent voire parfait sur le jeu de données qui lui ont servi à s'entrainer avec un taux de réussite à 100% ou proche de 100%.\n",
    "- il ne saura pas s'adapter à un autre jeu de données et son score pourrait être autour de 50%. \n",
    "\n",
    "Éviter l'overfitting permet donc d'appliquer notre modèle à d'autres bases de données et d'obtenir des résultats dont la précision est proche de 1."
   ]
  },
  {
   "cell_type": "markdown",
   "id": "c38382a3",
   "metadata": {},
   "source": [
    "### Expliquez simplement comment fonctionne les arbres de décision."
   ]
  },
  {
   "cell_type": "markdown",
   "id": "6968a533",
   "metadata": {},
   "source": [
    "Un arbre de décision permet de classer les différentes informations de façon logique et visuelle. Ce classement aide pendant le processus de la prise de décision. Grâce à un simple système de calcul, cette méthode peut s’avérer très utile pour trouver le choix le plus viable : les résultats possibles seront représentés par une série de choix interconnectés qui permettent d’évaluer les actions possibles selon leurs coûts, leurs bénéfices et leurs probabilités."
   ]
  },
  {
   "cell_type": "markdown",
   "id": "f3937720",
   "metadata": {},
   "source": [
    "### Quelles sont les limites de la métrique choisie pour évaluer le modèle? Pour le même modèle, sortez d'autres métriques d'évaluation en les commentant (précision, recall, F1 score, matrice de confusion...)\n",
    "\n"
   ]
  },
  {
   "cell_type": "markdown",
   "id": "3a8ee8ca",
   "metadata": {},
   "source": [
    "La métrique sélectionnée pour évaluer dans ce modèle est l'accuracy. La limite de l'accuracy se pose en présence de données déséquilibrées (imbalanced data). Des données sont dites déséquilibrées lorsqu’une des classes est plus fréquente que l’autre (par exemple plus d’individus négatifs que positifs).\n",
    "\n",
    "Pour les métriques d'évaluation supplémentaires, se référer à la dernière cellule du Jupyter Notebook. Les autres métriques figurent dans la partie test du nouveau modèle de machine learning."
   ]
  },
  {
   "cell_type": "markdown",
   "id": "e979038b",
   "metadata": {},
   "source": [
    "### Code du consultant avec un arbre de décision "
   ]
  },
  {
   "cell_type": "code",
   "execution_count": 45,
   "id": "6cea2ecb",
   "metadata": {
    "scrolled": true
   },
   "outputs": [
    {
     "name": "stdout",
     "output_type": "stream",
     "text": [
      "0.9429824561403509\n"
     ]
    }
   ],
   "source": [
    "from sklearn.model_selection import train_test_split\n",
    "from sklearn import tree\n",
    "from sklearn.metrics import accuracy_score\n",
    "from sklearn.preprocessing import StandardScaler\n",
    "\n",
    "import pandas as pd\n",
    "\n",
    "breast_cancer = pd.read_csv(\"data/breast_cancer.csv\")\n",
    "\n",
    "# On sépare les features du target\n",
    "features, target = (\n",
    "    breast_cancer.loc[:, \"radius_mean\":\"fractal_dimension_worst\"],\n",
    "    breast_cancer[\"diagnosis\"],\n",
    ")\n",
    "\n",
    "# On split notre dataframe en 2\n",
    "feat_train, feat_test, target_train, target_test = train_test_split(\n",
    "    features, target, test_size=0.4\n",
    ")\n",
    "\n",
    "# On standardise\n",
    "scaler = StandardScaler()\n",
    "feat_train = scaler.fit_transform(feat_train)\n",
    "feat_test = scaler.transform(feat_test)\n",
    "\n",
    "# On initalise le modèle\n",
    "tree_classif = tree.DecisionTreeClassifier()\n",
    "\n",
    "# On l'entraîne sur nos données d'entraînement\n",
    "tree_classif.fit(feat_train, target_train)\n",
    "\n",
    "# On l'utilise pour prédire sur les données de test\n",
    "predict_class = tree_classif.predict(feat_test)\n",
    "\n",
    "# On calcule l'accuracy du modèle\n",
    "acc = accuracy_score(predict_class, target_test)\n",
    "print(acc)\n"
   ]
  },
  {
   "cell_type": "markdown",
   "id": "3935751b",
   "metadata": {},
   "source": [
    "# 3. Entraînement d'un modèle concurrent"
   ]
  },
  {
   "cell_type": "markdown",
   "id": "88edd06c",
   "metadata": {},
   "source": [
    "En suivant la même logique, entraînez un modèle de classification avec la méthode des k plus proches voisins (ou k-nn). Expliquez comment il fonctionne. Sélectionnez le nombre de voisins qui vous donne le meilleur F1-score (en testant de 2 à 10 voisins) et comparez les performances de ce modèle avec le modèle précédent selon les différentes métriques.  \n",
    "\n",
    "__Bonus__ : Si vous avez le temps, entraînez un autre modèle de classification issu de `sklearn`, décrivez-le et présentez ses performances."
   ]
  },
  {
   "cell_type": "code",
   "execution_count": 26,
   "id": "7f19349e",
   "metadata": {},
   "outputs": [
    {
     "name": "stdout",
     "output_type": "stream",
     "text": [
      "Résultats de la validation croisée :\n",
      "\n",
      "accuracy = 0.965 (+/-0.030) for {'n_neighbors': 2}\n",
      "accuracy = 0.974 (+/-0.039) for {'n_neighbors': 3}\n",
      "accuracy = 0.959 (+/-0.028) for {'n_neighbors': 4}\n",
      "accuracy = 0.962 (+/-0.051) for {'n_neighbors': 5}\n",
      "accuracy = 0.953 (+/-0.029) for {'n_neighbors': 6}\n",
      "accuracy = 0.956 (+/-0.046) for {'n_neighbors': 7}\n",
      "accuracy = 0.956 (+/-0.032) for {'n_neighbors': 8}\n",
      "accuracy = 0.959 (+/-0.039) for {'n_neighbors': 9}\n",
      "accuracy = 0.956 (+/-0.032) for {'n_neighbors': 10}\n",
      "\n",
      "               precision    recall  f1-score   support\n",
      "\n",
      "           B       0.94      0.99      0.96       137\n",
      "           M       0.99      0.90      0.94        91\n",
      "\n",
      "    accuracy                           0.96       228\n",
      "   macro avg       0.96      0.95      0.95       228\n",
      "weighted avg       0.96      0.96      0.96       228\n",
      "\n"
     ]
    },
    {
     "data": {
      "image/png": "[encoded data removed]",
      "text/plain": [
       "<Figure size 640x480 with 2 Axes>"
      ]
     },
     "metadata": {},
     "output_type": "display_data"
    }
   ],
   "source": [
    "from sklearn.model_selection import train_test_split\n",
    "from sklearn.preprocessing import StandardScaler\n",
    "from sklearn.neighbors import KNeighborsClassifier\n",
    "from sklearn import neighbors, metrics\n",
    "from sklearn.metrics import accuracy_score\n",
    "from sklearn import model_selection\n",
    "from sklearn import preprocessing\n",
    "from sklearn.metrics import plot_confusion_matrix\n",
    "from sklearn.metrics import recall_score\n",
    "from sklearn.metrics import confusion_matrix, classification_report\n",
    "\n",
    "\n",
    "import warnings\n",
    "\n",
    "warnings.filterwarnings(\"ignore\")\n",
    "\n",
    "\n",
    "import pandas as pd\n",
    "\n",
    "breast_cancer = pd.read_csv(\"data/breast_cancer.csv\")\n",
    "\n",
    "# On sépare les features du target\n",
    "features, target = (\n",
    "    breast_cancer.loc[:, \"radius_mean\":\"fractal_dimension_worst\"],\n",
    "    breast_cancer[\"diagnosis\"],\n",
    ")\n",
    "\n",
    "# On split notre dataframe en 2\n",
    "feat_train, feat_test, target_train, target_test = train_test_split(\n",
    "    features, target, test_size=0.4\n",
    ")\n",
    "\n",
    "# On standardise\n",
    "scaler = StandardScaler()\n",
    "feat_train = scaler.fit_transform(feat_train)\n",
    "feat_test = scaler.transform(feat_test)\n",
    "\n",
    "# Fixer les valeurs des hyperparamètres à tester\n",
    "param_grid = {\"n_neighbors\": [2, 3, 4, 5, 6, 7, 8, 9, 10]}\n",
    "\n",
    "# Choisir un score à optimiser, ici l'accuracy (proportion de prédictions correctes)\n",
    "score = \"accuracy\"\n",
    "\n",
    "# Créer un classifieur kNN avec recherche d'hyperparamètre par validation croisée\n",
    "clf = model_selection.GridSearchCV(\n",
    "    neighbors.KNeighborsClassifier(),  # un classifieur kNN\n",
    "    param_grid,  # hyperparamètres à tester\n",
    "    scoring=score,\n",
    ")  # score à optimiser\n",
    "\n",
    "clf.fit(feat_train, target_train)\n",
    "\n",
    "plot_confusion_matrix(clf, feat_test, target_test)\n",
    "\n",
    "# Afficher les performances correspondantes\n",
    "print(\"Résultats de la validation croisée :\\n\")\n",
    "for mean, std, params in zip(\n",
    "    clf.cv_results_[\"mean_test_score\"],\n",
    "    clf.cv_results_[\"std_test_score\"],\n",
    "    clf.cv_results_[\"params\"],\n",
    "):\n",
    "    print(\"{} = {:.3f} (+/-{:.03f}) for {}\".format(score, mean, std * 2, params))\n",
    "\n",
    "y_pred = clf.predict(feat_test)\n",
    "y_true = target_test\n",
    "\n",
    "print(\"\\n\", classification_report(y_true, y_pred))\n"
   ]
  },
  {
   "cell_type": "code",
   "execution_count": null,
   "id": "18338474",
   "metadata": {},
   "outputs": [],
   "source": [
    "\"\"\"\n",
    "from sklearn.model_selection import train_test_split\n",
    "from sklearn.preprocessing import StandardScaler\n",
    "from sklearn.neighbors import KNeighborsClassifier\n",
    "from sklearn import neighbors, metrics\n",
    "from sklearn.metrics import accuracy_score\n",
    "from sklearn import model_selection\n",
    "from sklearn import preprocessing\n",
    "\n",
    "import warnings\n",
    "\n",
    "warnings.filterwarnings(\"ignore\")\n",
    "\n",
    "\n",
    "import pandas as pd\n",
    "\n",
    "breast_cancer = pd.read_csv(\"data/breast_cancer.csv\")\n",
    "\n",
    "# On sépare les features du target\n",
    "features, target = (\n",
    "    breast_cancer.loc[:, \"radius_mean\":\"fractal_dimension_worst\"],\n",
    "    breast_cancer[\"diagnosis\"],\n",
    ")\n",
    "\n",
    "# On split notre dataframe en 2\n",
    "feat_train, feat_test, target_train, target_test = train_test_split(\n",
    "    features, target, test_size=0.4\n",
    ")\n",
    "\n",
    "# On standardise\n",
    "scaler = StandardScaler()\n",
    "feat_train = scaler.fit_transform(feat_train)\n",
    "feat_test = scaler.transform(feat_test)\n",
    "\n",
    "\n",
    "# Fixer les valeurs des hyperparamètres à tester\n",
    "param_grid = {\"n_neighbors\": [2, 3, 4, 5, 6, 7, 8, 9, 10]}\n",
    "\n",
    "# Choisir un score à optimiser, ici l'accuracy (proportion de prédictions correctes)\n",
    "score = \"accuracy\"\n",
    "\n",
    "# Créer un classifieur kNN avec recherche d'hyperparamètre par validation croisée\n",
    "clf = model_selection.GridSearchCV(\n",
    "    neighbors.KNeighborsClassifier(),  # un classifieur kNN\n",
    "    param_grid,  # hyperparamètres à tester\n",
    "    cv=5,\n",
    "    scoring=score,\n",
    ")  # score à optimiser\n",
    "\n",
    "clf.fit(feat_train, target_train)\n",
    "\n",
    "\n",
    "# Afficher les performances correspondantes\n",
    "print(\"Résultats de la validation croisée:\")\n",
    "for mean, std, params in zip(\n",
    "    clf.cvresults[\"mean_test_score\"],  # score moyen\n",
    "    clf.cvresults[\"std_test_score\"],\n",
    "    clf.cvresults[\"params\"],\n",
    "):\n",
    "\n",
    "    print(\"{} = {:.3f} (+/-{:.03f}) for {}\".format(score, mean, std * 2, params))\n",
    "\"\"\""
   ]
  }
 ],
 "metadata": {
  "kernelspec": {
   "display_name": "Work",
   "language": "python",
   "name": "python3"
  },
  "language_info": {
   "codemirror_mode": {
    "name": "ipython",
    "version": 3
   },
   "file_extension": ".py",
   "mimetype": "text/x-python",
   "name": "python",
   "nbconvert_exporter": "python",
   "pygments_lexer": "ipython3",
   "version": "3.10.7 (main, Oct 11 2022, 09:45:51) [Clang 12.0.0 (clang-1200.0.32.29)]"
  },
  "vscode": {
   "interpreter": {
    "hash": "543a7c2f1a9271b35301c526e9c8f1af94d34a82f14247b875a545b1355dffdd"
   }
  }
 },
 "nbformat": 4,
 "nbformat_minor": 5
}
